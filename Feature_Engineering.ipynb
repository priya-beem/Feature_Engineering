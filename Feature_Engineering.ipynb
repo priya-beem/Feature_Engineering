{
  "nbformat": 4,
  "nbformat_minor": 0,
  "metadata": {
    "colab": {
      "provenance": []
    },
    "kernelspec": {
      "name": "python3",
      "display_name": "Python 3"
    },
    "language_info": {
      "name": "python"
    }
  },
  "cells": [
    {
      "cell_type": "code",
      "execution_count": null,
      "metadata": {
        "id": "Q6zNNLn-2hB_"
      },
      "outputs": [],
      "source": []
    },
    {
      "cell_type": "markdown",
      "source": [
        "1.What is a parameter?\n",
        "\n",
        "-A parameter is a value the model learns during training, like weights in a linear regression."
      ],
      "metadata": {
        "id": "3H3zWjLs6RGW"
      }
    },
    {
      "cell_type": "code",
      "source": [],
      "metadata": {
        "id": "WvSCQOyd6Xcw"
      },
      "execution_count": null,
      "outputs": []
    },
    {
      "cell_type": "markdown",
      "source": [
        "2.What is correlation?\n",
        "\n",
        "-Correlation shows how two variables are related — whether they increase or decrease together."
      ],
      "metadata": {
        "id": "SEBm0sPz6Xzr"
      }
    },
    {
      "cell_type": "code",
      "source": [],
      "metadata": {
        "id": "NoAY7N6H6i4D"
      },
      "execution_count": null,
      "outputs": []
    },
    {
      "cell_type": "markdown",
      "source": [
        "3.What does negative correlation mean?\n",
        "\n",
        "-It means that as one variable increases, the other decreases."
      ],
      "metadata": {
        "id": "32KFp0ZP6jSU"
      }
    },
    {
      "cell_type": "code",
      "source": [],
      "metadata": {
        "id": "hyDngdQf6opp"
      },
      "execution_count": null,
      "outputs": []
    },
    {
      "cell_type": "markdown",
      "source": [
        "4.Define Machine Learning. What are the main components in Machine Learning?\n",
        "\n",
        "-Machine Learning is when computers learn from data to make predictions. Key components: data, model, algorithm, and evaluation."
      ],
      "metadata": {
        "id": "KEBrQlyj6pCQ"
      }
    },
    {
      "cell_type": "code",
      "source": [],
      "metadata": {
        "id": "Fzmb42th6u89"
      },
      "execution_count": null,
      "outputs": []
    },
    {
      "cell_type": "markdown",
      "source": [
        "5.How does loss value help in determining whether the model is good or not?\n",
        "\n",
        "-Loss shows prediction error. Lower loss means a better model."
      ],
      "metadata": {
        "id": "wDkPiUQ96vad"
      }
    },
    {
      "cell_type": "code",
      "source": [],
      "metadata": {
        "id": "4v3sWbTY61F2"
      },
      "execution_count": null,
      "outputs": []
    },
    {
      "cell_type": "markdown",
      "source": [
        "6.What are continuous and categorical variables?\n",
        "\n",
        "-Continuous: numeric values (e.g., income). Categorical: group values (e.g., color, gender)."
      ],
      "metadata": {
        "id": "ySLUH8EO61eW"
      }
    },
    {
      "cell_type": "code",
      "source": [],
      "metadata": {
        "id": "cQsBrLZX66-I"
      },
      "execution_count": null,
      "outputs": []
    },
    {
      "cell_type": "markdown",
      "source": [
        "7.How do we handle categorical variables in Machine Learning? What are the common techniques?\n",
        "\n",
        "-We convert them to numbers using techniques like One-Hot Encoding or Label Encoding."
      ],
      "metadata": {
        "id": "wBXG_9Xi67Xu"
      }
    },
    {
      "cell_type": "code",
      "source": [],
      "metadata": {
        "id": "2h88HKGR7GZE"
      },
      "execution_count": null,
      "outputs": []
    },
    {
      "cell_type": "markdown",
      "source": [
        "8.What do you mean by training and testing a dataset?\n",
        "\n",
        "-Training data teaches the model. Testing data checks how well it learned."
      ],
      "metadata": {
        "id": "j-K_wtEO7Gzm"
      }
    },
    {
      "cell_type": "code",
      "source": [],
      "metadata": {
        "id": "GbALtOg57M1q"
      },
      "execution_count": null,
      "outputs": []
    },
    {
      "cell_type": "markdown",
      "source": [
        "9.What is sklearn.preprocessing?\n",
        "\n",
        "-A module in scikit-learn for data preparation like scaling and encoding."
      ],
      "metadata": {
        "id": "gphCfa627NS-"
      }
    },
    {
      "cell_type": "code",
      "source": [],
      "metadata": {
        "id": "7SJdVp8u7Sns"
      },
      "execution_count": null,
      "outputs": []
    },
    {
      "cell_type": "markdown",
      "source": [
        "10.What is a Test set?\n",
        "\n",
        "-A separate dataset used to check model performance after training."
      ],
      "metadata": {
        "id": "Sndo7_-g7TU8"
      }
    },
    {
      "cell_type": "code",
      "source": [],
      "metadata": {
        "id": "qOeATAb-7cuL"
      },
      "execution_count": null,
      "outputs": []
    },
    {
      "cell_type": "markdown",
      "source": [
        "11.How do we split data for model fitting (training and testing) in Python?\n",
        "\n",
        "-Use train_test_split() from sklearn.model_selection."
      ],
      "metadata": {
        "id": "0mE7TMKf7dKx"
      }
    },
    {
      "cell_type": "code",
      "source": [],
      "metadata": {
        "id": "xfXAgWB37iSQ"
      },
      "execution_count": null,
      "outputs": []
    },
    {
      "cell_type": "markdown",
      "source": [
        "12.How do you approach a Machine Learning problem?\n",
        "\n",
        "-Understand problem → Collect data → Clean & explore data → Choose model → Train → Evaluate → Improve."
      ],
      "metadata": {
        "id": "EdMOl9Tr7jAL"
      }
    },
    {
      "cell_type": "code",
      "source": [],
      "metadata": {
        "id": "xfCJ_SB-7q1t"
      },
      "execution_count": null,
      "outputs": []
    },
    {
      "cell_type": "markdown",
      "source": [
        "13.Why do we have to perform EDA before fitting a model to the data?\n",
        "\n",
        "-EDA helps us understand the data, spot patterns, and handle missing or incorrect values."
      ],
      "metadata": {
        "id": "F00xmVfN7rRx"
      }
    },
    {
      "cell_type": "code",
      "source": [],
      "metadata": {
        "id": "vz_mmN2D7xGo"
      },
      "execution_count": null,
      "outputs": []
    },
    {
      "cell_type": "markdown",
      "source": [
        "14.What is correlation?\n",
        "\n",
        "-It shows how two variables are related."
      ],
      "metadata": {
        "id": "ihw-z9r97xk0"
      }
    },
    {
      "cell_type": "code",
      "source": [],
      "metadata": {
        "id": "xZ3-kPOT72wl"
      },
      "execution_count": null,
      "outputs": []
    },
    {
      "cell_type": "markdown",
      "source": [
        "15.What does negative correlation mean?\n",
        "\n",
        "-One variable increases while the other decreases."
      ],
      "metadata": {
        "id": "Dfw4vTGZ73LK"
      }
    },
    {
      "cell_type": "code",
      "source": [],
      "metadata": {
        "id": "ILV9Wkvw7_DG"
      },
      "execution_count": null,
      "outputs": []
    },
    {
      "cell_type": "markdown",
      "source": [
        "16.How can you find correlation between variables in Python?\n",
        "\n",
        "-Use df.corr() in pandas or seaborn.heatmap(df.corr()) for visuals."
      ],
      "metadata": {
        "id": "QZ2cye9a7_nq"
      }
    },
    {
      "cell_type": "code",
      "source": [],
      "metadata": {
        "id": "K-WdjBD-8EVh"
      },
      "execution_count": null,
      "outputs": []
    },
    {
      "cell_type": "markdown",
      "source": [
        "17.What is causation? Explain difference between correlation and causation with an example.\n",
        "\n",
        "-Causation means one variable causes another to change. Example: Studying causes better grades (causation), while ice cream sales and drowning have correlation, not causation."
      ],
      "metadata": {
        "id": "qAluW6KT8FDj"
      }
    },
    {
      "cell_type": "code",
      "source": [],
      "metadata": {
        "id": "ptIyK1Hp8NsX"
      },
      "execution_count": null,
      "outputs": []
    },
    {
      "cell_type": "markdown",
      "source": [
        "18.What is an Optimizer? What are different types of optimizers? Explain each with an example.\n",
        "\n",
        "-Optimizers adjust model parameters to reduce error. Examples:\n",
        "\n",
        "SGD: updates with each sample.\n",
        "\n",
        "Adam: adapts learning rate and combines momentum."
      ],
      "metadata": {
        "id": "9H-mlSnk8OK2"
      }
    },
    {
      "cell_type": "code",
      "source": [],
      "metadata": {
        "id": "-ABnHRzp8UJ9"
      },
      "execution_count": null,
      "outputs": []
    },
    {
      "cell_type": "markdown",
      "source": [
        "19.What is sklearn.linear_model ?\n",
        "\n",
        "-A module for linear models like Linear and Logistic Regression."
      ],
      "metadata": {
        "id": "kBpR9FZL8UjO"
      }
    },
    {
      "cell_type": "code",
      "source": [],
      "metadata": {
        "id": "8X5KYit-8Y50"
      },
      "execution_count": null,
      "outputs": []
    },
    {
      "cell_type": "markdown",
      "source": [
        "20.What does model.fit() do? What arguments must be given?\n",
        "\n",
        "-It trains the model. You need input features (X) and target labels (y)."
      ],
      "metadata": {
        "id": "1Gwp1s1p8Zc3"
      }
    },
    {
      "cell_type": "code",
      "source": [],
      "metadata": {
        "id": "vM8V1k618ftN"
      },
      "execution_count": null,
      "outputs": []
    },
    {
      "cell_type": "markdown",
      "source": [
        "21.What does model.predict() do? What arguments must be given?\n",
        "\n",
        "-It makes predictions. You give it new input data (X).\n"
      ],
      "metadata": {
        "id": "8c1xv8Rv8gJK"
      }
    },
    {
      "cell_type": "code",
      "source": [],
      "metadata": {
        "id": "PSDc3zCt8llo"
      },
      "execution_count": null,
      "outputs": []
    },
    {
      "cell_type": "markdown",
      "source": [
        "22.What are continuous and categorical variables?\n",
        "\n",
        "-Continuous: measurable (e.g., height). Categorical: labels or categories (e.g., city)."
      ],
      "metadata": {
        "id": "5Ytjvqwx8mWs"
      }
    },
    {
      "cell_type": "code",
      "source": [],
      "metadata": {
        "id": "sMr-2tTn8sMC"
      },
      "execution_count": null,
      "outputs": []
    },
    {
      "cell_type": "markdown",
      "source": [
        "23.What is feature scaling? How does it help in Machine Learning?\n",
        "\n",
        "-It adjusts feature values to the same range. Helps models converge faster and improve accuracy."
      ],
      "metadata": {
        "id": "TC75Fs2L8srq"
      }
    },
    {
      "cell_type": "code",
      "source": [],
      "metadata": {
        "id": "Fdio3SL28zly"
      },
      "execution_count": null,
      "outputs": []
    },
    {
      "cell_type": "markdown",
      "source": [
        "24.How do we perform scaling in Python?\n",
        "\n",
        "-Use StandardScaler() or MinMaxScaler() from sklearn.preprocessing."
      ],
      "metadata": {
        "id": "4nT9jsg080BS"
      }
    },
    {
      "cell_type": "code",
      "source": [],
      "metadata": {
        "id": "S-fHVumQ857m"
      },
      "execution_count": null,
      "outputs": []
    },
    {
      "cell_type": "markdown",
      "source": [
        "25.What is sklearn.preprocessing?\n",
        "\n",
        "-It’s a module for transforming data — scaling, encoding, normalization."
      ],
      "metadata": {
        "id": "ROzB7aVc86iQ"
      }
    },
    {
      "cell_type": "code",
      "source": [],
      "metadata": {
        "id": "nJEtz0pv8_Tc"
      },
      "execution_count": null,
      "outputs": []
    },
    {
      "cell_type": "markdown",
      "source": [
        "26.How do we split data for model fitting (training and testing) in Python?\n",
        "\n",
        "-Use train_test_split(X, y, test_size=0.2) from sklearn.model_selection."
      ],
      "metadata": {
        "id": "urBf34lH8_2y"
      }
    },
    {
      "cell_type": "code",
      "source": [],
      "metadata": {
        "id": "GpirDh4r9HtA"
      },
      "execution_count": null,
      "outputs": []
    },
    {
      "cell_type": "markdown",
      "source": [
        "27.Explain data encoding?\n",
        "\n",
        "-Data encoding converts categorical variables into numeric form, using methods like Label Encoding or One-Hot Encoding."
      ],
      "metadata": {
        "id": "EYCS6uIE9IDe"
      }
    }
  ]
}